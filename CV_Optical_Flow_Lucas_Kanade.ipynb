{
 "cells": [
  {
   "cell_type": "markdown",
   "metadata": {},
   "source": [
    "## Object tracking using Optical Flow (Lucas-Kanade)\n",
    "\n",
    "#### Source: Udemy"
   ]
  },
  {
   "cell_type": "code",
   "execution_count": 2,
   "metadata": {},
   "outputs": [],
   "source": [
    "import numpy as np\n",
    "import cv2"
   ]
  },
  {
   "cell_type": "code",
   "execution_count": 3,
   "metadata": {},
   "outputs": [],
   "source": [
    "# Detect 10 best quality corners in the very first frame and track them\n",
    "corner_track_params = dict(maxCorners=10, qualityLevel=0.3, minDistance=7, blockSize=7)"
   ]
  },
  {
   "cell_type": "markdown",
   "metadata": {},
   "source": [
    " ##### Parameters for the Lucas-Kanade Optical Flow function\n",
    "Trade-off between smaller and larger windows - smaller windows more sensitive to noise and may miss larger movements e.g. the points moving fast. Larger window sizes will catch those movements but not as sensitive.   \n",
    "\n",
    "Lucas-Kanade method uses an image pyramid (https://en.wikipedia.org/wiki/Pyramid_(image_processing)) and allows us to find optical flow at various resolutions. Level-0 = original image; Level-2 is quarter resolution (MaxLevel=2) \n",
    "\n",
    "Criteria: max number of iterations - TERM_CRITERIA_COUNT(10) & Epsilon (EPS) = 0.03. More iterations mean a more exhaustive search for the points. Smaller epsilon means finishing earlier. <b> Speed vs accuracy of tracking <b> "
   ]
  },
  {
   "cell_type": "code",
   "execution_count": 15,
   "metadata": {},
   "outputs": [],
   "source": [
    "lk_params = dict(winSize=(200,200), maxLevel=2, criteria = (cv2.TERM_CRITERIA_EPS | cv2.TERM_CRITERIA_COUNT, 10, 0.03))"
   ]
  },
  {
   "cell_type": "markdown",
   "metadata": {},
   "source": [
    "Capture video feed from webcam \n",
    "\n",
    "VideoCapture(1) or VideoCapture(0) - front or back camera  "
   ]
  },
  {
   "cell_type": "code",
   "execution_count": 72,
   "metadata": {},
   "outputs": [],
   "source": [
    "cap = cv2.VideoCapture(1)\n",
    "\n",
    "ret, prev_frame = cap.read() # capture the first frame of the video to compare to the next frame\n",
    "\n",
    "prev_gray = cv2.cvtColor(prev_frame, cv2.COLOR_BGR2GRAY)\n",
    "\n",
    "# Points to track\n",
    "prevPts = cv2.goodFeaturesToTrack(prev_gray, mask=None, **corner_track_params)\n",
    "\n",
    "# mask used to draw lines on the video\n",
    "mask = np.zeros_like(prev_frame) # creating a numpy array of zeroes as the same shape as the prev_frame\n",
    "\n",
    "while True:\n",
    "    \n",
    "    ret, frame = cap.read() # frame is the current frame - different from prev_frame\n",
    "    \n",
    "    frame_gray = cv2.cvtColor(frame, cv2.COLOR_BGR2GRAY)\n",
    "    \n",
    "    #pass in previous frame, current frame, previous points, None-no current points, params) \n",
    "    nextPts, status, err = cv2.calcOpticalFlowPyrLK(prev_gray, frame_gray, prevPts, None, **lk_params)\n",
    "    \n",
    "    # matching points based on index location. Tracking 10 different points\n",
    "    good_new = nextPts[status == 1]\n",
    "    good_prev = prevPts[status == 1]\n",
    "    \n",
    "    for i, (new, prev) in enumerate(zip(good_new, good_prev)):\n",
    "        #calculate x & y positions to draw markers\n",
    "        \n",
    "        x_new, y_new = new.ravel() # flattening out an array\n",
    "        x_prev, y_prev = new.ravel()\n",
    "        \n",
    "        #draw green(0,255,0) tracking lines from previous-frame to new-frame\n",
    "        mask = cv2.line(mask, (x_new, y_new), (x_prev, y_prev), (0,255,0), 3)\n",
    "        \n",
    "        #draw a dot on the current frame on the current point we are tracking\n",
    "        frame = cv2.circle(frame, (x_new, y_new), 8, (0,0,225), -1)\n",
    "        \n",
    "        #press escape key to exit\n",
    "        font = cv2.FONT_HERSHEY_DUPLEX\n",
    "        position = (10,460)\n",
    "        message = \"Press ESC to Exit\"\n",
    "        menu = cv2.putText(frame, message, position, font, 0.75, (255,255,255))\n",
    "    \n",
    "    img = cv2.add(frame, mask, menu)\n",
    "    cv2.imshow(\"tracking\", img)\n",
    "    \n",
    "    #press escape key to exit instructions\n",
    "    k = cv2.waitKey(30) & 0xFF\n",
    "    if k == 27:\n",
    "        break\n",
    "    \n",
    "    # update the previous points to be the current points\n",
    "    prev_gray = frame_gray.copy()\n",
    "    prevPts = good_new.reshape(-1,1,2)\n",
    "\n",
    "cv2.destroyAllWindows()\n",
    "cap.release()\n",
    "    "
   ]
  },
  {
   "cell_type": "code",
   "execution_count": null,
   "metadata": {},
   "outputs": [],
   "source": []
  }
 ],
 "metadata": {
  "kernelspec": {
   "display_name": "Python 3",
   "language": "python",
   "name": "python3"
  },
  "language_info": {
   "codemirror_mode": {
    "name": "ipython",
    "version": 3
   },
   "file_extension": ".py",
   "mimetype": "text/x-python",
   "name": "python",
   "nbconvert_exporter": "python",
   "pygments_lexer": "ipython3",
   "version": "3.7.1"
  }
 },
 "nbformat": 4,
 "nbformat_minor": 2
}
